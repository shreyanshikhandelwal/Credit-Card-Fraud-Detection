{
  "nbformat": 4,
  "nbformat_minor": 0,
  "metadata": {
    "colab": {
      "name": "CreditCardFraudDetection.ipynb",
      "provenance": [],
      "collapsed_sections": []
    },
    "kernelspec": {
      "name": "python3",
      "display_name": "Python 3"
    },
    "language_info": {
      "name": "python"
    }
  },
  "cells": [
    {
      "cell_type": "code",
      "execution_count": 34,
      "metadata": {
        "id": "enG6ScR-96Vh"
      },
      "outputs": [],
      "source": [
        "import numpy as np\n",
        "import pandas as pd\n",
        "from sklearn.model_selection import train_test_split\n",
        "from sklearn.linear_model import LogisticRegression\n",
        "from sklearn.metrics import accuracy_score"
      ]
    },
    {
      "cell_type": "code",
      "source": [
        "credit_card_data=pd.read_csv('/content/creditcard.csv')"
      ],
      "metadata": {
        "id": "gUaVj5OL-Ofk"
      },
      "execution_count": 3,
      "outputs": []
    },
    {
      "cell_type": "code",
      "source": [
        "credit_card_data.head()"
      ],
      "metadata": {
        "colab": {
          "base_uri": "https://localhost:8080/",
          "height": 226
        },
        "id": "mZMYD-nr-f74",
        "outputId": "7a0e7fdb-401c-49d5-f479-0e769a1489af"
      },
      "execution_count": 4,
      "outputs": [
        {
          "output_type": "execute_result",
          "data": {
            "text/html": [
              "<div>\n",
              "<style scoped>\n",
              "    .dataframe tbody tr th:only-of-type {\n",
              "        vertical-align: middle;\n",
              "    }\n",
              "\n",
              "    .dataframe tbody tr th {\n",
              "        vertical-align: top;\n",
              "    }\n",
              "\n",
              "    .dataframe thead th {\n",
              "        text-align: right;\n",
              "    }\n",
              "</style>\n",
              "<table border=\"1\" class=\"dataframe\">\n",
              "  <thead>\n",
              "    <tr style=\"text-align: right;\">\n",
              "      <th></th>\n",
              "      <th>Time</th>\n",
              "      <th>V1</th>\n",
              "      <th>V2</th>\n",
              "      <th>V3</th>\n",
              "      <th>V4</th>\n",
              "      <th>V5</th>\n",
              "      <th>V6</th>\n",
              "      <th>V7</th>\n",
              "      <th>V8</th>\n",
              "      <th>V9</th>\n",
              "      <th>V10</th>\n",
              "      <th>V11</th>\n",
              "      <th>V12</th>\n",
              "      <th>V13</th>\n",
              "      <th>V14</th>\n",
              "      <th>V15</th>\n",
              "      <th>V16</th>\n",
              "      <th>V17</th>\n",
              "      <th>V18</th>\n",
              "      <th>V19</th>\n",
              "      <th>V20</th>\n",
              "      <th>V21</th>\n",
              "      <th>V22</th>\n",
              "      <th>V23</th>\n",
              "      <th>V24</th>\n",
              "      <th>V25</th>\n",
              "      <th>V26</th>\n",
              "      <th>V27</th>\n",
              "      <th>V28</th>\n",
              "      <th>Amount</th>\n",
              "      <th>Class</th>\n",
              "    </tr>\n",
              "  </thead>\n",
              "  <tbody>\n",
              "    <tr>\n",
              "      <th>0</th>\n",
              "      <td>0</td>\n",
              "      <td>-1.359807</td>\n",
              "      <td>-0.072781</td>\n",
              "      <td>2.536347</td>\n",
              "      <td>1.378155</td>\n",
              "      <td>-0.338321</td>\n",
              "      <td>0.462388</td>\n",
              "      <td>0.239599</td>\n",
              "      <td>0.098698</td>\n",
              "      <td>0.363787</td>\n",
              "      <td>0.090794</td>\n",
              "      <td>-0.551600</td>\n",
              "      <td>-0.617801</td>\n",
              "      <td>-0.991390</td>\n",
              "      <td>-0.311169</td>\n",
              "      <td>1.468177</td>\n",
              "      <td>-0.470401</td>\n",
              "      <td>0.207971</td>\n",
              "      <td>0.025791</td>\n",
              "      <td>0.403993</td>\n",
              "      <td>0.251412</td>\n",
              "      <td>-0.018307</td>\n",
              "      <td>0.277838</td>\n",
              "      <td>-0.110474</td>\n",
              "      <td>0.066928</td>\n",
              "      <td>0.128539</td>\n",
              "      <td>-0.189115</td>\n",
              "      <td>0.133558</td>\n",
              "      <td>-0.021053</td>\n",
              "      <td>149.62</td>\n",
              "      <td>0.0</td>\n",
              "    </tr>\n",
              "    <tr>\n",
              "      <th>1</th>\n",
              "      <td>0</td>\n",
              "      <td>1.191857</td>\n",
              "      <td>0.266151</td>\n",
              "      <td>0.166480</td>\n",
              "      <td>0.448154</td>\n",
              "      <td>0.060018</td>\n",
              "      <td>-0.082361</td>\n",
              "      <td>-0.078803</td>\n",
              "      <td>0.085102</td>\n",
              "      <td>-0.255425</td>\n",
              "      <td>-0.166974</td>\n",
              "      <td>1.612727</td>\n",
              "      <td>1.065235</td>\n",
              "      <td>0.489095</td>\n",
              "      <td>-0.143772</td>\n",
              "      <td>0.635558</td>\n",
              "      <td>0.463917</td>\n",
              "      <td>-0.114805</td>\n",
              "      <td>-0.183361</td>\n",
              "      <td>-0.145783</td>\n",
              "      <td>-0.069083</td>\n",
              "      <td>-0.225775</td>\n",
              "      <td>-0.638672</td>\n",
              "      <td>0.101288</td>\n",
              "      <td>-0.339846</td>\n",
              "      <td>0.167170</td>\n",
              "      <td>0.125895</td>\n",
              "      <td>-0.008983</td>\n",
              "      <td>0.014724</td>\n",
              "      <td>2.69</td>\n",
              "      <td>0.0</td>\n",
              "    </tr>\n",
              "    <tr>\n",
              "      <th>2</th>\n",
              "      <td>1</td>\n",
              "      <td>-1.358354</td>\n",
              "      <td>-1.340163</td>\n",
              "      <td>1.773209</td>\n",
              "      <td>0.379780</td>\n",
              "      <td>-0.503198</td>\n",
              "      <td>1.800499</td>\n",
              "      <td>0.791461</td>\n",
              "      <td>0.247676</td>\n",
              "      <td>-1.514654</td>\n",
              "      <td>0.207643</td>\n",
              "      <td>0.624501</td>\n",
              "      <td>0.066084</td>\n",
              "      <td>0.717293</td>\n",
              "      <td>-0.165946</td>\n",
              "      <td>2.345865</td>\n",
              "      <td>-2.890083</td>\n",
              "      <td>1.109969</td>\n",
              "      <td>-0.121359</td>\n",
              "      <td>-2.261857</td>\n",
              "      <td>0.524980</td>\n",
              "      <td>0.247998</td>\n",
              "      <td>0.771679</td>\n",
              "      <td>0.909412</td>\n",
              "      <td>-0.689281</td>\n",
              "      <td>-0.327642</td>\n",
              "      <td>-0.139097</td>\n",
              "      <td>-0.055353</td>\n",
              "      <td>-0.059752</td>\n",
              "      <td>378.66</td>\n",
              "      <td>0.0</td>\n",
              "    </tr>\n",
              "    <tr>\n",
              "      <th>3</th>\n",
              "      <td>1</td>\n",
              "      <td>-0.966272</td>\n",
              "      <td>-0.185226</td>\n",
              "      <td>1.792993</td>\n",
              "      <td>-0.863291</td>\n",
              "      <td>-0.010309</td>\n",
              "      <td>1.247203</td>\n",
              "      <td>0.237609</td>\n",
              "      <td>0.377436</td>\n",
              "      <td>-1.387024</td>\n",
              "      <td>-0.054952</td>\n",
              "      <td>-0.226487</td>\n",
              "      <td>0.178228</td>\n",
              "      <td>0.507757</td>\n",
              "      <td>-0.287924</td>\n",
              "      <td>-0.631418</td>\n",
              "      <td>-1.059647</td>\n",
              "      <td>-0.684093</td>\n",
              "      <td>1.965775</td>\n",
              "      <td>-1.232622</td>\n",
              "      <td>-0.208038</td>\n",
              "      <td>-0.108300</td>\n",
              "      <td>0.005274</td>\n",
              "      <td>-0.190321</td>\n",
              "      <td>-1.175575</td>\n",
              "      <td>0.647376</td>\n",
              "      <td>-0.221929</td>\n",
              "      <td>0.062723</td>\n",
              "      <td>0.061458</td>\n",
              "      <td>123.50</td>\n",
              "      <td>0.0</td>\n",
              "    </tr>\n",
              "    <tr>\n",
              "      <th>4</th>\n",
              "      <td>2</td>\n",
              "      <td>-1.158233</td>\n",
              "      <td>0.877737</td>\n",
              "      <td>1.548718</td>\n",
              "      <td>0.403034</td>\n",
              "      <td>-0.407193</td>\n",
              "      <td>0.095921</td>\n",
              "      <td>0.592941</td>\n",
              "      <td>-0.270533</td>\n",
              "      <td>0.817739</td>\n",
              "      <td>0.753074</td>\n",
              "      <td>-0.822843</td>\n",
              "      <td>0.538196</td>\n",
              "      <td>1.345852</td>\n",
              "      <td>-1.119670</td>\n",
              "      <td>0.175121</td>\n",
              "      <td>-0.451449</td>\n",
              "      <td>-0.237033</td>\n",
              "      <td>-0.038195</td>\n",
              "      <td>0.803487</td>\n",
              "      <td>0.408542</td>\n",
              "      <td>-0.009431</td>\n",
              "      <td>0.798278</td>\n",
              "      <td>-0.137458</td>\n",
              "      <td>0.141267</td>\n",
              "      <td>-0.206010</td>\n",
              "      <td>0.502292</td>\n",
              "      <td>0.219422</td>\n",
              "      <td>0.215153</td>\n",
              "      <td>69.99</td>\n",
              "      <td>0.0</td>\n",
              "    </tr>\n",
              "  </tbody>\n",
              "</table>\n",
              "</div>"
            ],
            "text/plain": [
              "   Time        V1        V2        V3  ...       V27       V28  Amount  Class\n",
              "0     0 -1.359807 -0.072781  2.536347  ...  0.133558 -0.021053  149.62    0.0\n",
              "1     0  1.191857  0.266151  0.166480  ... -0.008983  0.014724    2.69    0.0\n",
              "2     1 -1.358354 -1.340163  1.773209  ... -0.055353 -0.059752  378.66    0.0\n",
              "3     1 -0.966272 -0.185226  1.792993  ...  0.062723  0.061458  123.50    0.0\n",
              "4     2 -1.158233  0.877737  1.548718  ...  0.219422  0.215153   69.99    0.0\n",
              "\n",
              "[5 rows x 31 columns]"
            ]
          },
          "metadata": {},
          "execution_count": 4
        }
      ]
    },
    {
      "cell_type": "code",
      "source": [
        "credit_card_data.tail()"
      ],
      "metadata": {
        "colab": {
          "base_uri": "https://localhost:8080/",
          "height": 226
        },
        "id": "_qpLzVF0-lbk",
        "outputId": "db1b0918-b937-4dca-ccf8-b48af8af109f"
      },
      "execution_count": 5,
      "outputs": [
        {
          "output_type": "execute_result",
          "data": {
            "text/html": [
              "<div>\n",
              "<style scoped>\n",
              "    .dataframe tbody tr th:only-of-type {\n",
              "        vertical-align: middle;\n",
              "    }\n",
              "\n",
              "    .dataframe tbody tr th {\n",
              "        vertical-align: top;\n",
              "    }\n",
              "\n",
              "    .dataframe thead th {\n",
              "        text-align: right;\n",
              "    }\n",
              "</style>\n",
              "<table border=\"1\" class=\"dataframe\">\n",
              "  <thead>\n",
              "    <tr style=\"text-align: right;\">\n",
              "      <th></th>\n",
              "      <th>Time</th>\n",
              "      <th>V1</th>\n",
              "      <th>V2</th>\n",
              "      <th>V3</th>\n",
              "      <th>V4</th>\n",
              "      <th>V5</th>\n",
              "      <th>V6</th>\n",
              "      <th>V7</th>\n",
              "      <th>V8</th>\n",
              "      <th>V9</th>\n",
              "      <th>V10</th>\n",
              "      <th>V11</th>\n",
              "      <th>V12</th>\n",
              "      <th>V13</th>\n",
              "      <th>V14</th>\n",
              "      <th>V15</th>\n",
              "      <th>V16</th>\n",
              "      <th>V17</th>\n",
              "      <th>V18</th>\n",
              "      <th>V19</th>\n",
              "      <th>V20</th>\n",
              "      <th>V21</th>\n",
              "      <th>V22</th>\n",
              "      <th>V23</th>\n",
              "      <th>V24</th>\n",
              "      <th>V25</th>\n",
              "      <th>V26</th>\n",
              "      <th>V27</th>\n",
              "      <th>V28</th>\n",
              "      <th>Amount</th>\n",
              "      <th>Class</th>\n",
              "    </tr>\n",
              "  </thead>\n",
              "  <tbody>\n",
              "    <tr>\n",
              "      <th>21873</th>\n",
              "      <td>31906</td>\n",
              "      <td>1.285161</td>\n",
              "      <td>-0.701455</td>\n",
              "      <td>0.221870</td>\n",
              "      <td>-0.744753</td>\n",
              "      <td>-0.674967</td>\n",
              "      <td>0.034267</td>\n",
              "      <td>-0.631373</td>\n",
              "      <td>0.097860</td>\n",
              "      <td>-0.835749</td>\n",
              "      <td>0.664198</td>\n",
              "      <td>1.138237</td>\n",
              "      <td>0.140833</td>\n",
              "      <td>-0.150621</td>\n",
              "      <td>-0.063425</td>\n",
              "      <td>-0.481161</td>\n",
              "      <td>0.743600</td>\n",
              "      <td>0.463349</td>\n",
              "      <td>-1.508164</td>\n",
              "      <td>0.864626</td>\n",
              "      <td>0.091165</td>\n",
              "      <td>0.083025</td>\n",
              "      <td>0.190059</td>\n",
              "      <td>-0.074942</td>\n",
              "      <td>-0.278466</td>\n",
              "      <td>0.463615</td>\n",
              "      <td>-0.223877</td>\n",
              "      <td>0.011735</td>\n",
              "      <td>0.000997</td>\n",
              "      <td>39.75</td>\n",
              "      <td>0.0</td>\n",
              "    </tr>\n",
              "    <tr>\n",
              "      <th>21874</th>\n",
              "      <td>31906</td>\n",
              "      <td>-0.345979</td>\n",
              "      <td>1.094568</td>\n",
              "      <td>1.282208</td>\n",
              "      <td>0.068241</td>\n",
              "      <td>-0.016965</td>\n",
              "      <td>-0.989567</td>\n",
              "      <td>0.693958</td>\n",
              "      <td>-0.050855</td>\n",
              "      <td>-0.333856</td>\n",
              "      <td>-0.501949</td>\n",
              "      <td>-0.281206</td>\n",
              "      <td>-0.298888</td>\n",
              "      <td>-0.293920</td>\n",
              "      <td>-0.346967</td>\n",
              "      <td>0.939177</td>\n",
              "      <td>0.402235</td>\n",
              "      <td>0.032021</td>\n",
              "      <td>-0.087212</td>\n",
              "      <td>-0.089211</td>\n",
              "      <td>0.093355</td>\n",
              "      <td>-0.266852</td>\n",
              "      <td>-0.723026</td>\n",
              "      <td>-0.003364</td>\n",
              "      <td>0.322646</td>\n",
              "      <td>-0.173496</td>\n",
              "      <td>0.073145</td>\n",
              "      <td>0.241997</td>\n",
              "      <td>0.097610</td>\n",
              "      <td>5.99</td>\n",
              "      <td>0.0</td>\n",
              "    </tr>\n",
              "    <tr>\n",
              "      <th>21875</th>\n",
              "      <td>31907</td>\n",
              "      <td>1.171852</td>\n",
              "      <td>0.718042</td>\n",
              "      <td>-0.227521</td>\n",
              "      <td>1.373722</td>\n",
              "      <td>0.152349</td>\n",
              "      <td>-0.949840</td>\n",
              "      <td>0.271427</td>\n",
              "      <td>-0.153000</td>\n",
              "      <td>-0.184297</td>\n",
              "      <td>-0.739228</td>\n",
              "      <td>0.712763</td>\n",
              "      <td>0.313486</td>\n",
              "      <td>0.308225</td>\n",
              "      <td>-1.376833</td>\n",
              "      <td>1.268745</td>\n",
              "      <td>0.188062</td>\n",
              "      <td>1.265769</td>\n",
              "      <td>-0.017203</td>\n",
              "      <td>-1.109581</td>\n",
              "      <td>-0.111844</td>\n",
              "      <td>-0.013584</td>\n",
              "      <td>0.088759</td>\n",
              "      <td>-0.059148</td>\n",
              "      <td>0.278992</td>\n",
              "      <td>0.589886</td>\n",
              "      <td>-0.319374</td>\n",
              "      <td>0.055064</td>\n",
              "      <td>0.058347</td>\n",
              "      <td>1.00</td>\n",
              "      <td>0.0</td>\n",
              "    </tr>\n",
              "    <tr>\n",
              "      <th>21876</th>\n",
              "      <td>31907</td>\n",
              "      <td>1.209330</td>\n",
              "      <td>-1.130242</td>\n",
              "      <td>1.614261</td>\n",
              "      <td>0.000265</td>\n",
              "      <td>-1.974416</td>\n",
              "      <td>0.262320</td>\n",
              "      <td>-1.369554</td>\n",
              "      <td>0.173769</td>\n",
              "      <td>0.639855</td>\n",
              "      <td>0.203358</td>\n",
              "      <td>-1.389241</td>\n",
              "      <td>0.926325</td>\n",
              "      <td>0.956396</td>\n",
              "      <td>-1.434676</td>\n",
              "      <td>-1.786021</td>\n",
              "      <td>-2.036775</td>\n",
              "      <td>0.723171</td>\n",
              "      <td>0.592184</td>\n",
              "      <td>-0.111185</td>\n",
              "      <td>-0.391408</td>\n",
              "      <td>-0.520157</td>\n",
              "      <td>-0.573057</td>\n",
              "      <td>0.037646</td>\n",
              "      <td>0.488580</td>\n",
              "      <td>0.161446</td>\n",
              "      <td>1.067798</td>\n",
              "      <td>0.025745</td>\n",
              "      <td>0.028549</td>\n",
              "      <td>40.00</td>\n",
              "      <td>0.0</td>\n",
              "    </tr>\n",
              "    <tr>\n",
              "      <th>21877</th>\n",
              "      <td>31907</td>\n",
              "      <td>-0.184653</td>\n",
              "      <td>0.376693</td>\n",
              "      <td>0.632988</td>\n",
              "      <td>-2.282365</td>\n",
              "      <td>0.403553</td>\n",
              "      <td>-0.371666</td>\n",
              "      <td>0.695359</td>\n",
              "      <td>-0.064835</td>\n",
              "      <td>0.610986</td>\n",
              "      <td>-1.536792</td>\n",
              "      <td>-0.815998</td>\n",
              "      <td>0.291255</td>\n",
              "      <td>0.472790</td>\n",
              "      <td>0.167526</td>\n",
              "      <td>1.714561</td>\n",
              "      <td>-0.638371</td>\n",
              "      <td>-0.204813</td>\n",
              "      <td>-0.343363</td>\n",
              "      <td>0.982195</td>\n",
              "      <td>0.050268</td>\n",
              "      <td>-0.130997</td>\n",
              "      <td>-0.312833</td>\n",
              "      <td>-0.156567</td>\n",
              "      <td>-0.899683</td>\n",
              "      <td>0.093186</td>\n",
              "      <td>-0.130187</td>\n",
              "      <td>0.029255</td>\n",
              "      <td>0.009228</td>\n",
              "      <td>NaN</td>\n",
              "      <td>NaN</td>\n",
              "    </tr>\n",
              "  </tbody>\n",
              "</table>\n",
              "</div>"
            ],
            "text/plain": [
              "        Time        V1        V2        V3  ...       V27       V28  Amount  Class\n",
              "21873  31906  1.285161 -0.701455  0.221870  ...  0.011735  0.000997   39.75    0.0\n",
              "21874  31906 -0.345979  1.094568  1.282208  ...  0.241997  0.097610    5.99    0.0\n",
              "21875  31907  1.171852  0.718042 -0.227521  ...  0.055064  0.058347    1.00    0.0\n",
              "21876  31907  1.209330 -1.130242  1.614261  ...  0.025745  0.028549   40.00    0.0\n",
              "21877  31907 -0.184653  0.376693  0.632988  ...  0.029255  0.009228     NaN    NaN\n",
              "\n",
              "[5 rows x 31 columns]"
            ]
          },
          "metadata": {},
          "execution_count": 5
        }
      ]
    },
    {
      "cell_type": "code",
      "source": [
        " credit_card_data.info()"
      ],
      "metadata": {
        "colab": {
          "base_uri": "https://localhost:8080/"
        },
        "id": "eIY0nhrG_FZm",
        "outputId": "c763ab86-5d04-400b-ba06-24e99c6bf3d0"
      },
      "execution_count": 6,
      "outputs": [
        {
          "output_type": "stream",
          "name": "stdout",
          "text": [
            "<class 'pandas.core.frame.DataFrame'>\n",
            "RangeIndex: 21878 entries, 0 to 21877\n",
            "Data columns (total 31 columns):\n",
            " #   Column  Non-Null Count  Dtype  \n",
            "---  ------  --------------  -----  \n",
            " 0   Time    21878 non-null  int64  \n",
            " 1   V1      21878 non-null  float64\n",
            " 2   V2      21878 non-null  float64\n",
            " 3   V3      21878 non-null  float64\n",
            " 4   V4      21878 non-null  float64\n",
            " 5   V5      21878 non-null  float64\n",
            " 6   V6      21878 non-null  float64\n",
            " 7   V7      21878 non-null  float64\n",
            " 8   V8      21878 non-null  float64\n",
            " 9   V9      21878 non-null  float64\n",
            " 10  V10     21878 non-null  float64\n",
            " 11  V11     21878 non-null  float64\n",
            " 12  V12     21878 non-null  float64\n",
            " 13  V13     21878 non-null  float64\n",
            " 14  V14     21878 non-null  float64\n",
            " 15  V15     21878 non-null  float64\n",
            " 16  V16     21878 non-null  float64\n",
            " 17  V17     21878 non-null  float64\n",
            " 18  V18     21878 non-null  float64\n",
            " 19  V19     21878 non-null  float64\n",
            " 20  V20     21878 non-null  float64\n",
            " 21  V21     21878 non-null  float64\n",
            " 22  V22     21878 non-null  float64\n",
            " 23  V23     21878 non-null  float64\n",
            " 24  V24     21878 non-null  float64\n",
            " 25  V25     21878 non-null  float64\n",
            " 26  V26     21878 non-null  float64\n",
            " 27  V27     21878 non-null  float64\n",
            " 28  V28     21878 non-null  float64\n",
            " 29  Amount  21877 non-null  float64\n",
            " 30  Class   21877 non-null  float64\n",
            "dtypes: float64(30), int64(1)\n",
            "memory usage: 5.2 MB\n"
          ]
        }
      ]
    },
    {
      "cell_type": "code",
      "source": [
        "credit_card_data.isnull().sum()"
      ],
      "metadata": {
        "colab": {
          "base_uri": "https://localhost:8080/"
        },
        "id": "5MhjYHXA_U5u",
        "outputId": "c9aac803-1451-49cf-da1e-8cc44c395c5e"
      },
      "execution_count": 7,
      "outputs": [
        {
          "output_type": "execute_result",
          "data": {
            "text/plain": [
              "Time      0\n",
              "V1        0\n",
              "V2        0\n",
              "V3        0\n",
              "V4        0\n",
              "V5        0\n",
              "V6        0\n",
              "V7        0\n",
              "V8        0\n",
              "V9        0\n",
              "V10       0\n",
              "V11       0\n",
              "V12       0\n",
              "V13       0\n",
              "V14       0\n",
              "V15       0\n",
              "V16       0\n",
              "V17       0\n",
              "V18       0\n",
              "V19       0\n",
              "V20       0\n",
              "V21       0\n",
              "V22       0\n",
              "V23       0\n",
              "V24       0\n",
              "V25       0\n",
              "V26       0\n",
              "V27       0\n",
              "V28       0\n",
              "Amount    1\n",
              "Class     1\n",
              "dtype: int64"
            ]
          },
          "metadata": {},
          "execution_count": 7
        }
      ]
    },
    {
      "cell_type": "code",
      "source": [
        "credit_card_data['Class'].value_counts()"
      ],
      "metadata": {
        "colab": {
          "base_uri": "https://localhost:8080/"
        },
        "id": "IQkd_uxC_uiI",
        "outputId": "7f52bba0-0261-4d0d-b7cf-af2400b48e8b"
      },
      "execution_count": 8,
      "outputs": [
        {
          "output_type": "execute_result",
          "data": {
            "text/plain": [
              "0.0    21791\n",
              "1.0       86\n",
              "Name: Class, dtype: int64"
            ]
          },
          "metadata": {},
          "execution_count": 8
        }
      ]
    },
    {
      "cell_type": "code",
      "source": [
        "legit=credit_card_data[credit_card_data.Class==0]\n",
        "fraud=credit_card_data[credit_card_data.Class==1]"
      ],
      "metadata": {
        "id": "iQ5JY8z7AGvM"
      },
      "execution_count": 9,
      "outputs": []
    },
    {
      "cell_type": "code",
      "source": [
        "print(legit.shape)\n",
        "print(fraud.shape)"
      ],
      "metadata": {
        "colab": {
          "base_uri": "https://localhost:8080/"
        },
        "id": "JDVf7MyeBEGS",
        "outputId": "f2c44726-a55f-405e-d7d8-319246f2a076"
      },
      "execution_count": 10,
      "outputs": [
        {
          "output_type": "stream",
          "name": "stdout",
          "text": [
            "(21791, 31)\n",
            "(86, 31)\n"
          ]
        }
      ]
    },
    {
      "cell_type": "code",
      "source": [
        "legit.Amount.describe()"
      ],
      "metadata": {
        "colab": {
          "base_uri": "https://localhost:8080/"
        },
        "id": "hroLSJFvBOuH",
        "outputId": "e700346f-6d52-444f-a054-5a3f66e59f60"
      },
      "execution_count": 11,
      "outputs": [
        {
          "output_type": "execute_result",
          "data": {
            "text/plain": [
              "count    21791.000000\n",
              "mean        71.637403\n",
              "std        204.790148\n",
              "min          0.000000\n",
              "25%          5.990000\n",
              "50%         17.500000\n",
              "75%         62.120000\n",
              "max       7879.420000\n",
              "Name: Amount, dtype: float64"
            ]
          },
          "metadata": {},
          "execution_count": 11
        }
      ]
    },
    {
      "cell_type": "code",
      "source": [
        "fraud.Amount.describe()"
      ],
      "metadata": {
        "colab": {
          "base_uri": "https://localhost:8080/"
        },
        "id": "L_twsY6wBihB",
        "outputId": "abfc8681-7fb9-4795-ffae-3cfb879010b1"
      },
      "execution_count": 12,
      "outputs": [
        {
          "output_type": "execute_result",
          "data": {
            "text/plain": [
              "count      86.000000\n",
              "mean       93.996860\n",
              "std       260.195133\n",
              "min         0.000000\n",
              "25%         1.000000\n",
              "50%         1.000000\n",
              "75%        99.990000\n",
              "max      1809.680000\n",
              "Name: Amount, dtype: float64"
            ]
          },
          "metadata": {},
          "execution_count": 12
        }
      ]
    },
    {
      "cell_type": "code",
      "source": [
        "credit_card_data.groupby('Class').mean()"
      ],
      "metadata": {
        "colab": {
          "base_uri": "https://localhost:8080/",
          "height": 163
        },
        "id": "EBiMyhdEB0Np",
        "outputId": "95685fa0-786c-46ff-d5c3-be20bfc30c18"
      },
      "execution_count": 13,
      "outputs": [
        {
          "output_type": "execute_result",
          "data": {
            "text/html": [
              "<div>\n",
              "<style scoped>\n",
              "    .dataframe tbody tr th:only-of-type {\n",
              "        vertical-align: middle;\n",
              "    }\n",
              "\n",
              "    .dataframe tbody tr th {\n",
              "        vertical-align: top;\n",
              "    }\n",
              "\n",
              "    .dataframe thead th {\n",
              "        text-align: right;\n",
              "    }\n",
              "</style>\n",
              "<table border=\"1\" class=\"dataframe\">\n",
              "  <thead>\n",
              "    <tr style=\"text-align: right;\">\n",
              "      <th></th>\n",
              "      <th>Time</th>\n",
              "      <th>V1</th>\n",
              "      <th>V2</th>\n",
              "      <th>V3</th>\n",
              "      <th>V4</th>\n",
              "      <th>V5</th>\n",
              "      <th>V6</th>\n",
              "      <th>V7</th>\n",
              "      <th>V8</th>\n",
              "      <th>V9</th>\n",
              "      <th>V10</th>\n",
              "      <th>V11</th>\n",
              "      <th>V12</th>\n",
              "      <th>V13</th>\n",
              "      <th>V14</th>\n",
              "      <th>V15</th>\n",
              "      <th>V16</th>\n",
              "      <th>V17</th>\n",
              "      <th>V18</th>\n",
              "      <th>V19</th>\n",
              "      <th>V20</th>\n",
              "      <th>V21</th>\n",
              "      <th>V22</th>\n",
              "      <th>V23</th>\n",
              "      <th>V24</th>\n",
              "      <th>V25</th>\n",
              "      <th>V26</th>\n",
              "      <th>V27</th>\n",
              "      <th>V28</th>\n",
              "      <th>Amount</th>\n",
              "    </tr>\n",
              "    <tr>\n",
              "      <th>Class</th>\n",
              "      <th></th>\n",
              "      <th></th>\n",
              "      <th></th>\n",
              "      <th></th>\n",
              "      <th></th>\n",
              "      <th></th>\n",
              "      <th></th>\n",
              "      <th></th>\n",
              "      <th></th>\n",
              "      <th></th>\n",
              "      <th></th>\n",
              "      <th></th>\n",
              "      <th></th>\n",
              "      <th></th>\n",
              "      <th></th>\n",
              "      <th></th>\n",
              "      <th></th>\n",
              "      <th></th>\n",
              "      <th></th>\n",
              "      <th></th>\n",
              "      <th></th>\n",
              "      <th></th>\n",
              "      <th></th>\n",
              "      <th></th>\n",
              "      <th></th>\n",
              "      <th></th>\n",
              "      <th></th>\n",
              "      <th></th>\n",
              "      <th></th>\n",
              "      <th></th>\n",
              "    </tr>\n",
              "  </thead>\n",
              "  <tbody>\n",
              "    <tr>\n",
              "      <th>0.0</th>\n",
              "      <td>16920.948098</td>\n",
              "      <td>-0.207315</td>\n",
              "      <td>0.197324</td>\n",
              "      <td>0.790011</td>\n",
              "      <td>0.238431</td>\n",
              "      <td>-0.151823</td>\n",
              "      <td>0.097864</td>\n",
              "      <td>-0.108141</td>\n",
              "      <td>0.001903</td>\n",
              "      <td>0.576156</td>\n",
              "      <td>-0.163979</td>\n",
              "      <td>0.612366</td>\n",
              "      <td>-0.946282</td>\n",
              "      <td>0.601182</td>\n",
              "      <td>0.535377</td>\n",
              "      <td>-0.010059</td>\n",
              "      <td>0.015915</td>\n",
              "      <td>0.300842</td>\n",
              "      <td>-0.042342</td>\n",
              "      <td>-0.062633</td>\n",
              "      <td>0.036815</td>\n",
              "      <td>-0.045323</td>\n",
              "      <td>-0.139174</td>\n",
              "      <td>-0.036473</td>\n",
              "      <td>0.011836</td>\n",
              "      <td>0.124802</td>\n",
              "      <td>0.028728</td>\n",
              "      <td>0.008602</td>\n",
              "      <td>0.005937</td>\n",
              "      <td>71.637403</td>\n",
              "    </tr>\n",
              "    <tr>\n",
              "      <th>1.0</th>\n",
              "      <td>17592.162791</td>\n",
              "      <td>-8.792044</td>\n",
              "      <td>6.504115</td>\n",
              "      <td>-12.461366</td>\n",
              "      <td>6.302522</td>\n",
              "      <td>-6.112129</td>\n",
              "      <td>-2.534417</td>\n",
              "      <td>-8.479521</td>\n",
              "      <td>4.438385</td>\n",
              "      <td>-3.005413</td>\n",
              "      <td>-7.161801</td>\n",
              "      <td>5.989772</td>\n",
              "      <td>-8.972771</td>\n",
              "      <td>0.410614</td>\n",
              "      <td>-8.722720</td>\n",
              "      <td>-0.150567</td>\n",
              "      <td>-4.994930</td>\n",
              "      <td>-7.930996</td>\n",
              "      <td>-2.798884</td>\n",
              "      <td>0.320664</td>\n",
              "      <td>0.704824</td>\n",
              "      <td>0.536947</td>\n",
              "      <td>-0.386820</td>\n",
              "      <td>-0.379114</td>\n",
              "      <td>-0.264854</td>\n",
              "      <td>0.349233</td>\n",
              "      <td>0.177437</td>\n",
              "      <td>0.867258</td>\n",
              "      <td>0.096510</td>\n",
              "      <td>93.996860</td>\n",
              "    </tr>\n",
              "  </tbody>\n",
              "</table>\n",
              "</div>"
            ],
            "text/plain": [
              "               Time        V1        V2  ...       V27       V28     Amount\n",
              "Class                                    ...                               \n",
              "0.0    16920.948098 -0.207315  0.197324  ...  0.008602  0.005937  71.637403\n",
              "1.0    17592.162791 -8.792044  6.504115  ...  0.867258  0.096510  93.996860\n",
              "\n",
              "[2 rows x 30 columns]"
            ]
          },
          "metadata": {},
          "execution_count": 13
        }
      ]
    },
    {
      "cell_type": "markdown",
      "source": [
        "Under-Sampling\n"
      ],
      "metadata": {
        "id": "9o1CHj1ICaN9"
      }
    },
    {
      "cell_type": "markdown",
      "source": [
        "Sample dataset containing similar distribution of normal transactions and Fraud Transactions."
      ],
      "metadata": {
        "id": "M7CN1USuCkNe"
      }
    },
    {
      "cell_type": "markdown",
      "source": [
        "Number of Fraud Transactions- 86"
      ],
      "metadata": {
        "id": "Wor7-4iHGnBx"
      }
    },
    {
      "cell_type": "code",
      "source": [
        "legit_sample=legit.sample(n=86)\n"
      ],
      "metadata": {
        "id": "VXwboH7_G_gR"
      },
      "execution_count": 14,
      "outputs": []
    },
    {
      "cell_type": "code",
      "source": [
        "new_dataset=pd.concat([legit_sample,fraud],axis=0)"
      ],
      "metadata": {
        "id": "Ricef49mCKGL"
      },
      "execution_count": 15,
      "outputs": []
    },
    {
      "cell_type": "code",
      "source": [
        "new_dataset.head()"
      ],
      "metadata": {
        "colab": {
          "base_uri": "https://localhost:8080/",
          "height": 226
        },
        "id": "a06MInLSHO_V",
        "outputId": "24cc1a6d-cdca-41d2-e0fe-05be1d757540"
      },
      "execution_count": 16,
      "outputs": [
        {
          "output_type": "execute_result",
          "data": {
            "text/html": [
              "<div>\n",
              "<style scoped>\n",
              "    .dataframe tbody tr th:only-of-type {\n",
              "        vertical-align: middle;\n",
              "    }\n",
              "\n",
              "    .dataframe tbody tr th {\n",
              "        vertical-align: top;\n",
              "    }\n",
              "\n",
              "    .dataframe thead th {\n",
              "        text-align: right;\n",
              "    }\n",
              "</style>\n",
              "<table border=\"1\" class=\"dataframe\">\n",
              "  <thead>\n",
              "    <tr style=\"text-align: right;\">\n",
              "      <th></th>\n",
              "      <th>Time</th>\n",
              "      <th>V1</th>\n",
              "      <th>V2</th>\n",
              "      <th>V3</th>\n",
              "      <th>V4</th>\n",
              "      <th>V5</th>\n",
              "      <th>V6</th>\n",
              "      <th>V7</th>\n",
              "      <th>V8</th>\n",
              "      <th>V9</th>\n",
              "      <th>V10</th>\n",
              "      <th>V11</th>\n",
              "      <th>V12</th>\n",
              "      <th>V13</th>\n",
              "      <th>V14</th>\n",
              "      <th>V15</th>\n",
              "      <th>V16</th>\n",
              "      <th>V17</th>\n",
              "      <th>V18</th>\n",
              "      <th>V19</th>\n",
              "      <th>V20</th>\n",
              "      <th>V21</th>\n",
              "      <th>V22</th>\n",
              "      <th>V23</th>\n",
              "      <th>V24</th>\n",
              "      <th>V25</th>\n",
              "      <th>V26</th>\n",
              "      <th>V27</th>\n",
              "      <th>V28</th>\n",
              "      <th>Amount</th>\n",
              "      <th>Class</th>\n",
              "    </tr>\n",
              "  </thead>\n",
              "  <tbody>\n",
              "    <tr>\n",
              "      <th>18787</th>\n",
              "      <td>29764</td>\n",
              "      <td>-1.391668</td>\n",
              "      <td>-0.498857</td>\n",
              "      <td>2.403327</td>\n",
              "      <td>-1.937609</td>\n",
              "      <td>0.152528</td>\n",
              "      <td>-0.582191</td>\n",
              "      <td>0.764496</td>\n",
              "      <td>-0.570707</td>\n",
              "      <td>2.084935</td>\n",
              "      <td>-0.770256</td>\n",
              "      <td>-0.937222</td>\n",
              "      <td>-0.486887</td>\n",
              "      <td>-1.010932</td>\n",
              "      <td>-0.914339</td>\n",
              "      <td>1.000558</td>\n",
              "      <td>-0.317292</td>\n",
              "      <td>-0.855541</td>\n",
              "      <td>0.485250</td>\n",
              "      <td>0.242741</td>\n",
              "      <td>0.082299</td>\n",
              "      <td>-0.206954</td>\n",
              "      <td>0.210099</td>\n",
              "      <td>-0.185028</td>\n",
              "      <td>-0.138485</td>\n",
              "      <td>0.610203</td>\n",
              "      <td>-0.805501</td>\n",
              "      <td>-0.404044</td>\n",
              "      <td>-0.407058</td>\n",
              "      <td>59.90</td>\n",
              "      <td>0.0</td>\n",
              "    </tr>\n",
              "    <tr>\n",
              "      <th>11675</th>\n",
              "      <td>19918</td>\n",
              "      <td>1.148723</td>\n",
              "      <td>-1.382218</td>\n",
              "      <td>0.891321</td>\n",
              "      <td>-0.940237</td>\n",
              "      <td>-1.875747</td>\n",
              "      <td>-0.656737</td>\n",
              "      <td>-1.064437</td>\n",
              "      <td>-0.174357</td>\n",
              "      <td>-0.473381</td>\n",
              "      <td>0.939565</td>\n",
              "      <td>1.175556</td>\n",
              "      <td>-3.218117</td>\n",
              "      <td>1.829525</td>\n",
              "      <td>1.196918</td>\n",
              "      <td>0.276073</td>\n",
              "      <td>-0.634474</td>\n",
              "      <td>1.647924</td>\n",
              "      <td>-0.372564</td>\n",
              "      <td>-1.045193</td>\n",
              "      <td>-0.141196</td>\n",
              "      <td>-0.373213</td>\n",
              "      <td>-0.780883</td>\n",
              "      <td>0.163927</td>\n",
              "      <td>0.500184</td>\n",
              "      <td>-0.096339</td>\n",
              "      <td>-0.466630</td>\n",
              "      <td>0.004825</td>\n",
              "      <td>0.049790</td>\n",
              "      <td>156.00</td>\n",
              "      <td>0.0</td>\n",
              "    </tr>\n",
              "    <tr>\n",
              "      <th>20994</th>\n",
              "      <td>31402</td>\n",
              "      <td>-0.907907</td>\n",
              "      <td>-0.267539</td>\n",
              "      <td>1.024984</td>\n",
              "      <td>-1.918181</td>\n",
              "      <td>-0.304212</td>\n",
              "      <td>-0.344516</td>\n",
              "      <td>1.735140</td>\n",
              "      <td>-1.006402</td>\n",
              "      <td>-0.901207</td>\n",
              "      <td>1.213031</td>\n",
              "      <td>1.121227</td>\n",
              "      <td>-1.239118</td>\n",
              "      <td>-1.371020</td>\n",
              "      <td>-0.438675</td>\n",
              "      <td>-0.477988</td>\n",
              "      <td>1.240375</td>\n",
              "      <td>-0.564151</td>\n",
              "      <td>-1.173082</td>\n",
              "      <td>0.760720</td>\n",
              "      <td>-0.177093</td>\n",
              "      <td>-0.294815</td>\n",
              "      <td>-0.446057</td>\n",
              "      <td>-0.156600</td>\n",
              "      <td>-0.042659</td>\n",
              "      <td>-0.451329</td>\n",
              "      <td>-0.843398</td>\n",
              "      <td>-0.860405</td>\n",
              "      <td>-0.395735</td>\n",
              "      <td>202.00</td>\n",
              "      <td>0.0</td>\n",
              "    </tr>\n",
              "    <tr>\n",
              "      <th>10335</th>\n",
              "      <td>16461</td>\n",
              "      <td>1.153107</td>\n",
              "      <td>0.834782</td>\n",
              "      <td>0.458709</td>\n",
              "      <td>2.764840</td>\n",
              "      <td>0.203569</td>\n",
              "      <td>-0.635780</td>\n",
              "      <td>0.406819</td>\n",
              "      <td>-0.259725</td>\n",
              "      <td>0.190466</td>\n",
              "      <td>0.322178</td>\n",
              "      <td>1.112173</td>\n",
              "      <td>-2.367554</td>\n",
              "      <td>1.486446</td>\n",
              "      <td>2.015071</td>\n",
              "      <td>-0.318732</td>\n",
              "      <td>-0.148392</td>\n",
              "      <td>0.727897</td>\n",
              "      <td>-0.850971</td>\n",
              "      <td>-1.649218</td>\n",
              "      <td>-0.260214</td>\n",
              "      <td>-0.103376</td>\n",
              "      <td>-0.035926</td>\n",
              "      <td>0.003126</td>\n",
              "      <td>0.544054</td>\n",
              "      <td>0.562982</td>\n",
              "      <td>0.026975</td>\n",
              "      <td>-0.049103</td>\n",
              "      <td>0.005461</td>\n",
              "      <td>2.28</td>\n",
              "      <td>0.0</td>\n",
              "    </tr>\n",
              "    <tr>\n",
              "      <th>19498</th>\n",
              "      <td>30329</td>\n",
              "      <td>-0.813151</td>\n",
              "      <td>1.359829</td>\n",
              "      <td>1.346820</td>\n",
              "      <td>2.550308</td>\n",
              "      <td>0.949065</td>\n",
              "      <td>0.466341</td>\n",
              "      <td>0.661830</td>\n",
              "      <td>0.103189</td>\n",
              "      <td>-1.932522</td>\n",
              "      <td>1.032650</td>\n",
              "      <td>0.978491</td>\n",
              "      <td>-0.376178</td>\n",
              "      <td>-0.933021</td>\n",
              "      <td>0.845857</td>\n",
              "      <td>0.702641</td>\n",
              "      <td>-0.400657</td>\n",
              "      <td>0.136843</td>\n",
              "      <td>0.119848</td>\n",
              "      <td>1.045520</td>\n",
              "      <td>0.004651</td>\n",
              "      <td>0.117034</td>\n",
              "      <td>0.218977</td>\n",
              "      <td>-0.409678</td>\n",
              "      <td>-0.297827</td>\n",
              "      <td>0.307527</td>\n",
              "      <td>0.363862</td>\n",
              "      <td>-0.201548</td>\n",
              "      <td>0.069149</td>\n",
              "      <td>3.71</td>\n",
              "      <td>0.0</td>\n",
              "    </tr>\n",
              "  </tbody>\n",
              "</table>\n",
              "</div>"
            ],
            "text/plain": [
              "        Time        V1        V2        V3  ...       V27       V28  Amount  Class\n",
              "18787  29764 -1.391668 -0.498857  2.403327  ... -0.404044 -0.407058   59.90    0.0\n",
              "11675  19918  1.148723 -1.382218  0.891321  ...  0.004825  0.049790  156.00    0.0\n",
              "20994  31402 -0.907907 -0.267539  1.024984  ... -0.860405 -0.395735  202.00    0.0\n",
              "10335  16461  1.153107  0.834782  0.458709  ... -0.049103  0.005461    2.28    0.0\n",
              "19498  30329 -0.813151  1.359829  1.346820  ... -0.201548  0.069149    3.71    0.0\n",
              "\n",
              "[5 rows x 31 columns]"
            ]
          },
          "metadata": {},
          "execution_count": 16
        }
      ]
    },
    {
      "cell_type": "code",
      "source": [
        "new_dataset.tail()"
      ],
      "metadata": {
        "colab": {
          "base_uri": "https://localhost:8080/",
          "height": 226
        },
        "id": "_y_TLBhEHtfE",
        "outputId": "cdc26ae2-d58d-4e90-dc9a-71b13bc23cdf"
      },
      "execution_count": 17,
      "outputs": [
        {
          "output_type": "execute_result",
          "data": {
            "text/html": [
              "<div>\n",
              "<style scoped>\n",
              "    .dataframe tbody tr th:only-of-type {\n",
              "        vertical-align: middle;\n",
              "    }\n",
              "\n",
              "    .dataframe tbody tr th {\n",
              "        vertical-align: top;\n",
              "    }\n",
              "\n",
              "    .dataframe thead th {\n",
              "        text-align: right;\n",
              "    }\n",
              "</style>\n",
              "<table border=\"1\" class=\"dataframe\">\n",
              "  <thead>\n",
              "    <tr style=\"text-align: right;\">\n",
              "      <th></th>\n",
              "      <th>Time</th>\n",
              "      <th>V1</th>\n",
              "      <th>V2</th>\n",
              "      <th>V3</th>\n",
              "      <th>V4</th>\n",
              "      <th>V5</th>\n",
              "      <th>V6</th>\n",
              "      <th>V7</th>\n",
              "      <th>V8</th>\n",
              "      <th>V9</th>\n",
              "      <th>V10</th>\n",
              "      <th>V11</th>\n",
              "      <th>V12</th>\n",
              "      <th>V13</th>\n",
              "      <th>V14</th>\n",
              "      <th>V15</th>\n",
              "      <th>V16</th>\n",
              "      <th>V17</th>\n",
              "      <th>V18</th>\n",
              "      <th>V19</th>\n",
              "      <th>V20</th>\n",
              "      <th>V21</th>\n",
              "      <th>V22</th>\n",
              "      <th>V23</th>\n",
              "      <th>V24</th>\n",
              "      <th>V25</th>\n",
              "      <th>V26</th>\n",
              "      <th>V27</th>\n",
              "      <th>V28</th>\n",
              "      <th>Amount</th>\n",
              "      <th>Class</th>\n",
              "    </tr>\n",
              "  </thead>\n",
              "  <tbody>\n",
              "    <tr>\n",
              "      <th>18466</th>\n",
              "      <td>29526</td>\n",
              "      <td>1.102804</td>\n",
              "      <td>2.829168</td>\n",
              "      <td>-3.932870</td>\n",
              "      <td>4.707691</td>\n",
              "      <td>2.937967</td>\n",
              "      <td>-1.800904</td>\n",
              "      <td>1.672734</td>\n",
              "      <td>-0.300240</td>\n",
              "      <td>-2.783011</td>\n",
              "      <td>-1.884842</td>\n",
              "      <td>3.792565</td>\n",
              "      <td>-1.460471</td>\n",
              "      <td>-1.312776</td>\n",
              "      <td>-7.077361</td>\n",
              "      <td>-0.299466</td>\n",
              "      <td>2.493228</td>\n",
              "      <td>6.244987</td>\n",
              "      <td>2.971749</td>\n",
              "      <td>-2.679950</td>\n",
              "      <td>-0.030880</td>\n",
              "      <td>-0.106994</td>\n",
              "      <td>-0.250050</td>\n",
              "      <td>-0.521627</td>\n",
              "      <td>-0.448950</td>\n",
              "      <td>1.291646</td>\n",
              "      <td>0.516327</td>\n",
              "      <td>0.009146</td>\n",
              "      <td>0.153318</td>\n",
              "      <td>0.68</td>\n",
              "      <td>1.0</td>\n",
              "    </tr>\n",
              "    <tr>\n",
              "      <th>18472</th>\n",
              "      <td>29531</td>\n",
              "      <td>-1.060676</td>\n",
              "      <td>2.608579</td>\n",
              "      <td>-2.971679</td>\n",
              "      <td>4.360089</td>\n",
              "      <td>3.738853</td>\n",
              "      <td>-2.728395</td>\n",
              "      <td>1.987616</td>\n",
              "      <td>-0.357345</td>\n",
              "      <td>-2.757535</td>\n",
              "      <td>-2.335933</td>\n",
              "      <td>2.111517</td>\n",
              "      <td>-2.591950</td>\n",
              "      <td>-1.950589</td>\n",
              "      <td>-7.311580</td>\n",
              "      <td>0.077753</td>\n",
              "      <td>2.290608</td>\n",
              "      <td>6.509272</td>\n",
              "      <td>2.569971</td>\n",
              "      <td>-3.286150</td>\n",
              "      <td>-0.089062</td>\n",
              "      <td>-0.063168</td>\n",
              "      <td>-0.207385</td>\n",
              "      <td>-0.183261</td>\n",
              "      <td>-0.103679</td>\n",
              "      <td>0.896178</td>\n",
              "      <td>0.407387</td>\n",
              "      <td>-0.130918</td>\n",
              "      <td>0.192177</td>\n",
              "      <td>0.68</td>\n",
              "      <td>1.0</td>\n",
              "    </tr>\n",
              "    <tr>\n",
              "      <th>18773</th>\n",
              "      <td>29753</td>\n",
              "      <td>0.269614</td>\n",
              "      <td>3.549755</td>\n",
              "      <td>-5.810353</td>\n",
              "      <td>5.809370</td>\n",
              "      <td>1.538808</td>\n",
              "      <td>-2.269219</td>\n",
              "      <td>-0.824203</td>\n",
              "      <td>0.351070</td>\n",
              "      <td>-3.759059</td>\n",
              "      <td>-4.592390</td>\n",
              "      <td>5.479392</td>\n",
              "      <td>-5.657858</td>\n",
              "      <td>-2.648076</td>\n",
              "      <td>-10.384890</td>\n",
              "      <td>-0.225946</td>\n",
              "      <td>-0.701883</td>\n",
              "      <td>0.409736</td>\n",
              "      <td>0.939604</td>\n",
              "      <td>-1.954300</td>\n",
              "      <td>0.310525</td>\n",
              "      <td>0.371121</td>\n",
              "      <td>-0.322290</td>\n",
              "      <td>-0.549856</td>\n",
              "      <td>-0.520629</td>\n",
              "      <td>1.378210</td>\n",
              "      <td>0.564714</td>\n",
              "      <td>0.553255</td>\n",
              "      <td>0.402400</td>\n",
              "      <td>0.68</td>\n",
              "      <td>1.0</td>\n",
              "    </tr>\n",
              "    <tr>\n",
              "      <th>18809</th>\n",
              "      <td>29785</td>\n",
              "      <td>0.923764</td>\n",
              "      <td>0.344048</td>\n",
              "      <td>-2.880004</td>\n",
              "      <td>1.721680</td>\n",
              "      <td>-3.019565</td>\n",
              "      <td>-0.639736</td>\n",
              "      <td>-3.801325</td>\n",
              "      <td>1.299096</td>\n",
              "      <td>0.864065</td>\n",
              "      <td>-2.895252</td>\n",
              "      <td>3.028162</td>\n",
              "      <td>-2.549177</td>\n",
              "      <td>-1.560432</td>\n",
              "      <td>-2.971317</td>\n",
              "      <td>1.078895</td>\n",
              "      <td>-4.702012</td>\n",
              "      <td>-4.908099</td>\n",
              "      <td>-1.508873</td>\n",
              "      <td>3.001685</td>\n",
              "      <td>0.170872</td>\n",
              "      <td>0.899931</td>\n",
              "      <td>1.481271</td>\n",
              "      <td>0.725266</td>\n",
              "      <td>0.176960</td>\n",
              "      <td>-1.815638</td>\n",
              "      <td>-0.536517</td>\n",
              "      <td>0.489035</td>\n",
              "      <td>-0.049729</td>\n",
              "      <td>30.30</td>\n",
              "      <td>1.0</td>\n",
              "    </tr>\n",
              "    <tr>\n",
              "      <th>20198</th>\n",
              "      <td>30852</td>\n",
              "      <td>-2.830984</td>\n",
              "      <td>0.885657</td>\n",
              "      <td>1.199930</td>\n",
              "      <td>2.861292</td>\n",
              "      <td>0.321669</td>\n",
              "      <td>0.289966</td>\n",
              "      <td>1.767760</td>\n",
              "      <td>-2.451050</td>\n",
              "      <td>0.069736</td>\n",
              "      <td>3.245086</td>\n",
              "      <td>0.675288</td>\n",
              "      <td>-0.677096</td>\n",
              "      <td>-0.222741</td>\n",
              "      <td>-0.913787</td>\n",
              "      <td>1.603332</td>\n",
              "      <td>-1.024502</td>\n",
              "      <td>0.022045</td>\n",
              "      <td>-0.940685</td>\n",
              "      <td>0.484759</td>\n",
              "      <td>-1.016923</td>\n",
              "      <td>0.546589</td>\n",
              "      <td>0.334971</td>\n",
              "      <td>0.172106</td>\n",
              "      <td>0.623590</td>\n",
              "      <td>-0.527114</td>\n",
              "      <td>-0.079215</td>\n",
              "      <td>-2.532445</td>\n",
              "      <td>0.311177</td>\n",
              "      <td>104.81</td>\n",
              "      <td>1.0</td>\n",
              "    </tr>\n",
              "  </tbody>\n",
              "</table>\n",
              "</div>"
            ],
            "text/plain": [
              "        Time        V1        V2        V3  ...       V27       V28  Amount  Class\n",
              "18466  29526  1.102804  2.829168 -3.932870  ...  0.009146  0.153318    0.68    1.0\n",
              "18472  29531 -1.060676  2.608579 -2.971679  ... -0.130918  0.192177    0.68    1.0\n",
              "18773  29753  0.269614  3.549755 -5.810353  ...  0.553255  0.402400    0.68    1.0\n",
              "18809  29785  0.923764  0.344048 -2.880004  ...  0.489035 -0.049729   30.30    1.0\n",
              "20198  30852 -2.830984  0.885657  1.199930  ... -2.532445  0.311177  104.81    1.0\n",
              "\n",
              "[5 rows x 31 columns]"
            ]
          },
          "metadata": {},
          "execution_count": 17
        }
      ]
    },
    {
      "cell_type": "code",
      "source": [
        "new_dataset['Class'].value_counts()"
      ],
      "metadata": {
        "colab": {
          "base_uri": "https://localhost:8080/"
        },
        "id": "5ktOQ9bHH1B9",
        "outputId": "56d2474d-edef-47af-f391-10578273cf0b"
      },
      "execution_count": 18,
      "outputs": [
        {
          "output_type": "execute_result",
          "data": {
            "text/plain": [
              "1.0    86\n",
              "0.0    86\n",
              "Name: Class, dtype: int64"
            ]
          },
          "metadata": {},
          "execution_count": 18
        }
      ]
    },
    {
      "cell_type": "code",
      "source": [
        "new_dataset.groupby('Class').mean()"
      ],
      "metadata": {
        "colab": {
          "base_uri": "https://localhost:8080/",
          "height": 163
        },
        "id": "04zHGStNIJeQ",
        "outputId": "24687ddd-71a7-46c4-cc90-1f8233ec3a16"
      },
      "execution_count": 19,
      "outputs": [
        {
          "output_type": "execute_result",
          "data": {
            "text/html": [
              "<div>\n",
              "<style scoped>\n",
              "    .dataframe tbody tr th:only-of-type {\n",
              "        vertical-align: middle;\n",
              "    }\n",
              "\n",
              "    .dataframe tbody tr th {\n",
              "        vertical-align: top;\n",
              "    }\n",
              "\n",
              "    .dataframe thead th {\n",
              "        text-align: right;\n",
              "    }\n",
              "</style>\n",
              "<table border=\"1\" class=\"dataframe\">\n",
              "  <thead>\n",
              "    <tr style=\"text-align: right;\">\n",
              "      <th></th>\n",
              "      <th>Time</th>\n",
              "      <th>V1</th>\n",
              "      <th>V2</th>\n",
              "      <th>V3</th>\n",
              "      <th>V4</th>\n",
              "      <th>V5</th>\n",
              "      <th>V6</th>\n",
              "      <th>V7</th>\n",
              "      <th>V8</th>\n",
              "      <th>V9</th>\n",
              "      <th>V10</th>\n",
              "      <th>V11</th>\n",
              "      <th>V12</th>\n",
              "      <th>V13</th>\n",
              "      <th>V14</th>\n",
              "      <th>V15</th>\n",
              "      <th>V16</th>\n",
              "      <th>V17</th>\n",
              "      <th>V18</th>\n",
              "      <th>V19</th>\n",
              "      <th>V20</th>\n",
              "      <th>V21</th>\n",
              "      <th>V22</th>\n",
              "      <th>V23</th>\n",
              "      <th>V24</th>\n",
              "      <th>V25</th>\n",
              "      <th>V26</th>\n",
              "      <th>V27</th>\n",
              "      <th>V28</th>\n",
              "      <th>Amount</th>\n",
              "    </tr>\n",
              "    <tr>\n",
              "      <th>Class</th>\n",
              "      <th></th>\n",
              "      <th></th>\n",
              "      <th></th>\n",
              "      <th></th>\n",
              "      <th></th>\n",
              "      <th></th>\n",
              "      <th></th>\n",
              "      <th></th>\n",
              "      <th></th>\n",
              "      <th></th>\n",
              "      <th></th>\n",
              "      <th></th>\n",
              "      <th></th>\n",
              "      <th></th>\n",
              "      <th></th>\n",
              "      <th></th>\n",
              "      <th></th>\n",
              "      <th></th>\n",
              "      <th></th>\n",
              "      <th></th>\n",
              "      <th></th>\n",
              "      <th></th>\n",
              "      <th></th>\n",
              "      <th></th>\n",
              "      <th></th>\n",
              "      <th></th>\n",
              "      <th></th>\n",
              "      <th></th>\n",
              "      <th></th>\n",
              "      <th></th>\n",
              "    </tr>\n",
              "  </thead>\n",
              "  <tbody>\n",
              "    <tr>\n",
              "      <th>0.0</th>\n",
              "      <td>16174.441860</td>\n",
              "      <td>-0.153291</td>\n",
              "      <td>0.163435</td>\n",
              "      <td>0.811267</td>\n",
              "      <td>0.288337</td>\n",
              "      <td>-0.141389</td>\n",
              "      <td>0.040943</td>\n",
              "      <td>0.040001</td>\n",
              "      <td>-0.010875</td>\n",
              "      <td>0.660270</td>\n",
              "      <td>-0.015426</td>\n",
              "      <td>0.470728</td>\n",
              "      <td>-1.003959</td>\n",
              "      <td>0.609869</td>\n",
              "      <td>0.550289</td>\n",
              "      <td>-0.011481</td>\n",
              "      <td>0.052725</td>\n",
              "      <td>0.148795</td>\n",
              "      <td>0.046467</td>\n",
              "      <td>0.003390</td>\n",
              "      <td>-0.011557</td>\n",
              "      <td>-0.078763</td>\n",
              "      <td>-0.085102</td>\n",
              "      <td>-0.082411</td>\n",
              "      <td>0.056579</td>\n",
              "      <td>0.129324</td>\n",
              "      <td>0.041005</td>\n",
              "      <td>-0.081638</td>\n",
              "      <td>0.088853</td>\n",
              "      <td>69.232326</td>\n",
              "    </tr>\n",
              "    <tr>\n",
              "      <th>1.0</th>\n",
              "      <td>17592.162791</td>\n",
              "      <td>-8.792044</td>\n",
              "      <td>6.504115</td>\n",
              "      <td>-12.461366</td>\n",
              "      <td>6.302522</td>\n",
              "      <td>-6.112129</td>\n",
              "      <td>-2.534417</td>\n",
              "      <td>-8.479521</td>\n",
              "      <td>4.438385</td>\n",
              "      <td>-3.005413</td>\n",
              "      <td>-7.161801</td>\n",
              "      <td>5.989772</td>\n",
              "      <td>-8.972771</td>\n",
              "      <td>0.410614</td>\n",
              "      <td>-8.722720</td>\n",
              "      <td>-0.150567</td>\n",
              "      <td>-4.994930</td>\n",
              "      <td>-7.930996</td>\n",
              "      <td>-2.798884</td>\n",
              "      <td>0.320664</td>\n",
              "      <td>0.704824</td>\n",
              "      <td>0.536947</td>\n",
              "      <td>-0.386820</td>\n",
              "      <td>-0.379114</td>\n",
              "      <td>-0.264854</td>\n",
              "      <td>0.349233</td>\n",
              "      <td>0.177437</td>\n",
              "      <td>0.867258</td>\n",
              "      <td>0.096510</td>\n",
              "      <td>93.996860</td>\n",
              "    </tr>\n",
              "  </tbody>\n",
              "</table>\n",
              "</div>"
            ],
            "text/plain": [
              "               Time        V1        V2  ...       V27       V28     Amount\n",
              "Class                                    ...                               \n",
              "0.0    16174.441860 -0.153291  0.163435  ... -0.081638  0.088853  69.232326\n",
              "1.0    17592.162791 -8.792044  6.504115  ...  0.867258  0.096510  93.996860\n",
              "\n",
              "[2 rows x 30 columns]"
            ]
          },
          "metadata": {},
          "execution_count": 19
        }
      ]
    },
    {
      "cell_type": "markdown",
      "source": [
        "Splitting data into features and Targets\n"
      ],
      "metadata": {
        "id": "yOB1GTbvI5lN"
      }
    },
    {
      "cell_type": "code",
      "source": [
        "X=new_dataset.drop(columns='Class',axis=1)\n",
        "Y=new_dataset['Class']"
      ],
      "metadata": {
        "id": "k9kXlqAiI_on"
      },
      "execution_count": 20,
      "outputs": []
    },
    {
      "cell_type": "code",
      "source": [
        "print(X)"
      ],
      "metadata": {
        "colab": {
          "base_uri": "https://localhost:8080/"
        },
        "id": "Znn7M4LZIi57",
        "outputId": "c3f5ef55-f9af-4205-b1b9-09b323d7507e"
      },
      "execution_count": 21,
      "outputs": [
        {
          "output_type": "stream",
          "name": "stdout",
          "text": [
            "        Time        V1        V2  ...       V27       V28  Amount\n",
            "18787  29764 -1.391668 -0.498857  ... -0.404044 -0.407058   59.90\n",
            "11675  19918  1.148723 -1.382218  ...  0.004825  0.049790  156.00\n",
            "20994  31402 -0.907907 -0.267539  ... -0.860405 -0.395735  202.00\n",
            "10335  16461  1.153107  0.834782  ... -0.049103  0.005461    2.28\n",
            "19498  30329 -0.813151  1.359829  ... -0.201548  0.069149    3.71\n",
            "...      ...       ...       ...  ...       ...       ...     ...\n",
            "18466  29526  1.102804  2.829168  ...  0.009146  0.153318    0.68\n",
            "18472  29531 -1.060676  2.608579  ... -0.130918  0.192177    0.68\n",
            "18773  29753  0.269614  3.549755  ...  0.553255  0.402400    0.68\n",
            "18809  29785  0.923764  0.344048  ...  0.489035 -0.049729   30.30\n",
            "20198  30852 -2.830984  0.885657  ... -2.532445  0.311177  104.81\n",
            "\n",
            "[172 rows x 30 columns]\n"
          ]
        }
      ]
    },
    {
      "cell_type": "code",
      "source": [
        "print(Y)"
      ],
      "metadata": {
        "colab": {
          "base_uri": "https://localhost:8080/"
        },
        "id": "BUBk0v0qJrlr",
        "outputId": "fc46b3b7-fbbe-43bc-dead-0e3e2a522703"
      },
      "execution_count": 22,
      "outputs": [
        {
          "output_type": "stream",
          "name": "stdout",
          "text": [
            "18787    0.0\n",
            "11675    0.0\n",
            "20994    0.0\n",
            "10335    0.0\n",
            "19498    0.0\n",
            "        ... \n",
            "18466    1.0\n",
            "18472    1.0\n",
            "18773    1.0\n",
            "18809    1.0\n",
            "20198    1.0\n",
            "Name: Class, Length: 172, dtype: float64\n"
          ]
        }
      ]
    },
    {
      "cell_type": "code",
      "source": [
        ""
      ],
      "metadata": {
        "id": "1wu4ZgAKJwXq"
      },
      "execution_count": null,
      "outputs": []
    },
    {
      "cell_type": "markdown",
      "source": [
        "Split data into Training and Test Data(75 and 25 percent)"
      ],
      "metadata": {
        "id": "gfCFpowGJ07w"
      }
    },
    {
      "cell_type": "code",
      "source": [
        "X_train, X_test, Y_train, Y_test=train_test_split(X,Y, test_size=0.25,stratify=Y,random_state=2)"
      ],
      "metadata": {
        "id": "hAGmTgcdJ-dN"
      },
      "execution_count": 23,
      "outputs": []
    },
    {
      "cell_type": "code",
      "source": [
        "print(X.shape, X_train.shape,X_test.shape)"
      ],
      "metadata": {
        "colab": {
          "base_uri": "https://localhost:8080/"
        },
        "id": "dqKxcAPJLHwK",
        "outputId": "483fe860-d1a0-4da6-afa3-e6ae073df275"
      },
      "execution_count": 24,
      "outputs": [
        {
          "output_type": "stream",
          "name": "stdout",
          "text": [
            "(172, 30) (129, 30) (43, 30)\n"
          ]
        }
      ]
    },
    {
      "cell_type": "code",
      "source": [
        ""
      ],
      "metadata": {
        "id": "6A3_VV7HLTZo"
      },
      "execution_count": null,
      "outputs": []
    },
    {
      "cell_type": "markdown",
      "source": [
        "Using Logistic Regreesion for Binary Classification\n"
      ],
      "metadata": {
        "id": "-aJdHu27LeHM"
      }
    },
    {
      "cell_type": "code",
      "source": [
        "model = LogisticRegression()"
      ],
      "metadata": {
        "id": "ogCVlDaSLnsh"
      },
      "execution_count": 35,
      "outputs": []
    },
    {
      "cell_type": "code",
      "source": [
        "model.fit(X_train,Y_train)\n"
      ],
      "metadata": {
        "colab": {
          "base_uri": "https://localhost:8080/"
        },
        "id": "pUXooyE1LxV7",
        "outputId": "d679af23-b83e-46d7-8d38-6198da0563ff"
      },
      "execution_count": 36,
      "outputs": [
        {
          "output_type": "stream",
          "name": "stderr",
          "text": [
            "/usr/local/lib/python3.7/dist-packages/sklearn/linear_model/_logistic.py:818: ConvergenceWarning: lbfgs failed to converge (status=1):\n",
            "STOP: TOTAL NO. of ITERATIONS REACHED LIMIT.\n",
            "\n",
            "Increase the number of iterations (max_iter) or scale the data as shown in:\n",
            "    https://scikit-learn.org/stable/modules/preprocessing.html\n",
            "Please also refer to the documentation for alternative solver options:\n",
            "    https://scikit-learn.org/stable/modules/linear_model.html#logistic-regression\n",
            "  extra_warning_msg=_LOGISTIC_SOLVER_CONVERGENCE_MSG,\n"
          ]
        },
        {
          "output_type": "execute_result",
          "data": {
            "text/plain": [
              "LogisticRegression()"
            ]
          },
          "metadata": {},
          "execution_count": 36
        }
      ]
    },
    {
      "cell_type": "code",
      "source": [
        "X_train_prediction=model.predict(X_train)\n",
        "training_data_accuracy=accuracy_score(X_train_prediction,Y_train)"
      ],
      "metadata": {
        "id": "iVGflItqMBwH"
      },
      "execution_count": 37,
      "outputs": []
    },
    {
      "cell_type": "code",
      "source": [
        "print(training_data_accuracy)"
      ],
      "metadata": {
        "colab": {
          "base_uri": "https://localhost:8080/"
        },
        "id": "wp8TibDYQP__",
        "outputId": "60313cfc-c660-49d0-e924-b28279443124"
      },
      "execution_count": 38,
      "outputs": [
        {
          "output_type": "stream",
          "name": "stdout",
          "text": [
            "0.9844961240310077\n"
          ]
        }
      ]
    },
    {
      "cell_type": "code",
      "source": [
        "X_test_prediction=model.predict(X_test)\n",
        "test_data_accuracy=accuracy_score(X_test_prediction,Y_test)"
      ],
      "metadata": {
        "id": "b5F0OXEiQmTv"
      },
      "execution_count": 39,
      "outputs": []
    },
    {
      "cell_type": "code",
      "source": [
        "print(test_data_accuracy)"
      ],
      "metadata": {
        "colab": {
          "base_uri": "https://localhost:8080/"
        },
        "id": "Nh0KdSJ3ROaC",
        "outputId": "ec66f538-bbcd-4a38-dd65-404593d3aed2"
      },
      "execution_count": 41,
      "outputs": [
        {
          "output_type": "stream",
          "name": "stdout",
          "text": [
            "0.9302325581395349\n"
          ]
        }
      ]
    },
    {
      "cell_type": "code",
      "source": [
        ""
      ],
      "metadata": {
        "id": "UC3L5DY4RSrB"
      },
      "execution_count": null,
      "outputs": []
    }
  ]
}